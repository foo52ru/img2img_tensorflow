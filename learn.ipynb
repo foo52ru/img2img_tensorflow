{
 "cells": [
  {
   "cell_type": "markdown",
   "id": "b65c6920",
   "metadata": {},
   "source": [
    "# Создание нейросети для запоминания рисунка\n",
    "Проект по генерации перехода от картинки к картинке.     \n",
    "В этом блокноте происходит первоначальное создание нейросети для запоминания картинки      \n",
    "\n",
    "Если запустить все ячейки, то произойдёт обучение длительностью 10 эпох  ( около 10 минут)   \n",
    "на картинке *pic/picaso.png*      \n",
    "будет создана новая нейросеть и результат сохраниться в *pic/picaso.h5*"
   ]
  },
  {
   "cell_type": "code",
   "execution_count": null,
   "id": "ac7ca554",
   "metadata": {},
   "outputs": [],
   "source": [
    "import tensorflow as tf\n",
    "from tensorflow import keras\n",
    "import numpy as np\n",
    "import scipy.special\n",
    "import imageio\n",
    "import matplotlib.pyplot as plt\n",
    "%matplotlib inline\n",
    "import pandas as pd\n",
    "import random"
   ]
  },
  {
   "cell_type": "markdown",
   "id": "45fe43ba",
   "metadata": {},
   "source": [
    "#### дополнительные функции"
   ]
  },
  {
   "cell_type": "code",
   "execution_count": null,
   "id": "c0ca435a",
   "metadata": {},
   "outputs": [],
   "source": [
    "def get_picture(name,save = True):\n",
    "    '''функция получение и сохранение картинки от нейросети'''\n",
    "    inp = np.zeros((width*height, 2)) \n",
    "    n = 0\n",
    "    for x in range(0,width):\n",
    "        for y in range(0,height):\n",
    "            inp[n][0] = 2*x/width - 1\n",
    "            inp[n][1] = 2*y/height- 1\n",
    "            n += 1\n",
    "\n",
    "    y_proba = model.predict(inp)\n",
    "    n = 0\n",
    "    for x in range(0,width):\n",
    "        for y in range(0,height): \n",
    "            imout[y,x] = (y_proba[n]+1)*255/2\n",
    "            n += 1  \n",
    "            \n",
    "    plt.imshow(imout, interpolation='None')\n",
    "    if save:\n",
    "        imageio.imwrite(name, imout[:, :, :])\n",
    "\n",
    "        \n",
    "def create_dataset():\n",
    "    '''создаём датасет из картинки'''\n",
    "    for n in range(0,4000000):\n",
    "        x = random.randint(0,width-1)\n",
    "        y = random.randint(0,height-1)\n",
    "        in_put[n][0] = 2*x/width - 1\n",
    "        in_put[n][1] = 2*y/height- 1\n",
    "        out_put[n][0] = 2*im[y,x,0]/255 - 1\n",
    "        out_put[n][1] = 2*im[y,x,1]/255 - 1\n",
    "        out_put[n][2] = 2*im[y,x,2]/255 - 1    "
   ]
  },
  {
   "cell_type": "markdown",
   "id": "b3dff0a0",
   "metadata": {},
   "source": [
    "### загрузка картинки\n",
    "Прописываем картинку, которую будем запоминать"
   ]
  },
  {
   "cell_type": "code",
   "execution_count": null,
   "id": "02a22b8d",
   "metadata": {},
   "outputs": [],
   "source": [
    "imageName = 'pic/picaso.png'\n",
    "im = imageio.imread(imageName)\n",
    "imout = imageio.imread(imageName)\n",
    "plt.imshow(im, interpolation='None')\n",
    "\n",
    "# узнаём параметры картинки\n",
    "height = im.shape[0]\n",
    "width  = im.shape[1]"
   ]
  },
  {
   "cell_type": "markdown",
   "id": "52dc8197",
   "metadata": {},
   "source": [
    "### Создание новой нейросети или загрузка старой\n",
    "Если создаём новую нейросеть, то     \n",
    "```createNewWeights = True ```     \n",
    "Если планируем переобучать готовую нейросеть на новой картинке, то      \n",
    "```createNewWeights = False ```       \n",
    "и в последней строке прописываем, откуда взять модель нейросети     \n",
    "```model = keras.models.load_model(\"модель.h5\")```"
   ]
  },
  {
   "cell_type": "code",
   "execution_count": null,
   "id": "9fe3228d",
   "metadata": {},
   "outputs": [],
   "source": [
    "createNewWeights = True # False # \n",
    "\n",
    "in_put = np.zeros((4000000, 2)) \n",
    "out_put= np.zeros((4000000, 3))\n",
    "\n",
    "if createNewWeights:\n",
    "    model = keras.models.Sequential()\n",
    "    model.add(keras.layers.Dense(100, activation=\"tanh\", input_shape=in_put.shape[1:]))\n",
    "    model.add(keras.layers.Dense(100, activation=\"tanh\"))\n",
    "    model.add(keras.layers.Dense(100, activation=\"tanh\"))\n",
    "    model.add(keras.layers.Dense(100, activation=\"tanh\"))\n",
    "    model.add(keras.layers.Dense(3, activation=\"tanh\")) # \n",
    "\n",
    "    model.compile(loss=\"mean_squared_error\", \n",
    "                  optimizer=keras.optimizers.SGD(lr=0.002, momentum=0.9, nesterov=True ) ) #optimizer=\"sgd\"\n",
    "else:\n",
    "    model = keras.models.load_model(\"pic/___.h5\")"
   ]
  },
  {
   "cell_type": "markdown",
   "id": "8db06991",
   "metadata": {},
   "source": [
    "# обучение\n",
    "Создаём датасет и запускаем модель на обучение     \n",
    "Можно указать количество эпох, которое будет проходить обучение *(epochs=  )*"
   ]
  },
  {
   "cell_type": "code",
   "execution_count": null,
   "id": "ac2ce2d0",
   "metadata": {},
   "outputs": [],
   "source": [
    "create_dataset()   # создаём датасет из картинки"
   ]
  },
  {
   "cell_type": "code",
   "execution_count": null,
   "id": "ac14693c",
   "metadata": {},
   "outputs": [],
   "source": [
    "model.fit(in_put, out_put, epochs=10) "
   ]
  },
  {
   "cell_type": "markdown",
   "id": "617ea84a",
   "metadata": {},
   "source": [
    "### получаем картинку и сохраняем в файл\n",
    "Посмотреть результат обучения.    \n",
    "если в аргументах **save = True,**        \n",
    "то картинка сохранится по указаному адресу"
   ]
  },
  {
   "cell_type": "code",
   "execution_count": null,
   "id": "d30f0426",
   "metadata": {
    "scrolled": false
   },
   "outputs": [],
   "source": [
    "get_picture(\"pic/picaso_.png\",save = True) "
   ]
  },
  {
   "cell_type": "markdown",
   "id": "e91aca42",
   "metadata": {},
   "source": [
    "### сохранение модели\n",
    "Модель нейросети будет сохранена по указаному адресу"
   ]
  },
  {
   "cell_type": "code",
   "execution_count": null,
   "id": "6e84b53d",
   "metadata": {},
   "outputs": [],
   "source": [
    "model.save(\"pic/picaso.h5\")"
   ]
  },
  {
   "cell_type": "markdown",
   "id": "ef0e2c0c",
   "metadata": {},
   "source": [
    "Если результат не устраивает,      \n",
    "то перезапускаем обучение с ячейки    \n",
    "```model.fit(in_put, out_put, epochs=__)```     \n",
    "или     \n",
    "```create_dataset()```"
   ]
  },
  {
   "cell_type": "code",
   "execution_count": null,
   "id": "c8c147e0",
   "metadata": {},
   "outputs": [],
   "source": []
  }
 ],
 "metadata": {
  "kernelspec": {
   "display_name": "Python 3",
   "language": "python",
   "name": "python3"
  },
  "language_info": {
   "codemirror_mode": {
    "name": "ipython",
    "version": 3
   },
   "file_extension": ".py",
   "mimetype": "text/x-python",
   "name": "python",
   "nbconvert_exporter": "python",
   "pygments_lexer": "ipython3",
   "version": "3.8.8"
  }
 },
 "nbformat": 4,
 "nbformat_minor": 5
}
