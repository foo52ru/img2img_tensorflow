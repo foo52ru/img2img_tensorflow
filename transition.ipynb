{
 "cells": [
  {
   "cell_type": "markdown",
   "id": "9f2149df",
   "metadata": {},
   "source": [
    "# Генерация последовательности перехода от картинки к картинке\n",
    "Используются веса, созданные нейросетью (learn.ipynb), обученной на разных картинках.      \n",
    "Веса, обученые на одной картинке изменяются, что бы через заданное количество шагов        \n",
    "соответствовать весам, обученным на другой картинке.        \n",
    "На каждом шаге происходит сохранение изображения в **.png** файл указаного размера."
   ]
  },
  {
   "cell_type": "code",
   "execution_count": null,
   "id": "11dc8727",
   "metadata": {},
   "outputs": [],
   "source": [
    "import tensorflow as tf\n",
    "from tensorflow import keras\n",
    "import numpy as np\n",
    "import scipy.special\n",
    "import imageio\n",
    "import matplotlib.pyplot as plt\n",
    "%matplotlib inline\n",
    "import pandas as pd\n",
    "import random"
   ]
  },
  {
   "cell_type": "markdown",
   "id": "f6ac387a",
   "metadata": {},
   "source": [
    "#### дополнительные функции"
   ]
  },
  {
   "cell_type": "code",
   "execution_count": null,
   "id": "89f5942f",
   "metadata": {},
   "outputs": [],
   "source": [
    "def get_picture(model0,width,height,name):\n",
    "    \"\"\"функция получение и сохранение картинки от нейросети\"\"\"\n",
    "    inp = np.zeros((width*height, 2)) \n",
    "    n = 0\n",
    "    for x in range(0,width):\n",
    "        for y in range(0,height):\n",
    "            inp[n][0] = 2*x/width - 1\n",
    "            inp[n][1] = 2*y/height- 1\n",
    "            n += 1\n",
    "\n",
    "    y_proba = model0.predict(inp)\n",
    "    n = 0\n",
    "    for x in range(0,width): #\n",
    "        for y in range(0,height): #\n",
    "            imout[y,x] = (y_proba[n]+1)*255/2\n",
    "            n += 1  \n",
    "        \n",
    "        \n",
    "def doit(stepsCount,firstModel,secondModel):\n",
    "    global startFileName\n",
    "    global imout\n",
    "    model0 = keras.models.load_model(firstModel)\n",
    "    model1 = keras.models.load_model(firstModel)\n",
    "    model2 = keras.models.load_model(secondModel)\n",
    "    q=len(model0.layers)\n",
    "    for currentStep in range(0,stepsCount):\n",
    "        for n in range(0,q):\n",
    "            w1,b1 = model1.layers[n].get_weights()\n",
    "            w2,b2 = model2.layers[n].get_weights()\n",
    "            ws = w1+currentStep*(w2-w1)/(stepsCount-1)\n",
    "            bs = b1+currentStep*(b2-b1)/(stepsCount-1)\n",
    "            model0.layers[n].set_weights([ws,bs])\n",
    "        \n",
    "        get_picture(model0,width,height,startFileName)\n",
    "        imageio.imwrite(folder+'/'+str(startFileName)+'.png', imout[:, :, :].astype(np.uint8))\n",
    "        startFileName += 1\n",
    "        "
   ]
  },
  {
   "cell_type": "markdown",
   "id": "af9ddf04",
   "metadata": {},
   "source": [
    "### Параметры\n",
    "- Ширина и высота изображений на выходе\n",
    "- Папка, где всё это нужно сохранить"
   ]
  },
  {
   "cell_type": "code",
   "execution_count": null,
   "id": "9e4fcefd",
   "metadata": {},
   "outputs": [],
   "source": [
    "width = 300\n",
    "height = 270\n",
    "folder = 'result'  # имя папки, где будут сохраняться скриншоты (создаётся вручную)\n",
    "\n",
    "# здесь будем формировать картинку\n",
    "imout = np.zeros(( height, width , 3))\n"
   ]
  },
  {
   "cell_type": "markdown",
   "id": "f0dfc399",
   "metadata": {},
   "source": [
    "### Финальная часть   \n",
    "**startFileName** - число, из которого сгенерируется имя начального файла\n",
    "Первым агрументом у функции **doit()** указываем количество кадров, которое будет длится преобразование.      \n",
    "Затем адрес нейросети с которой начнется генерироватся последовательность    \n",
    "и адрес нейросети на которой последовательность завершиться"
   ]
  },
  {
   "cell_type": "code",
   "execution_count": null,
   "id": "caba73d8",
   "metadata": {},
   "outputs": [],
   "source": [
    "print(f'Ждите. идёт генерация, за результатом можно следить в папке {folder}')\n",
    "startFileName = 0\n",
    "\n",
    "doit(30,\"pic/01.h5\", \"pic/02.h5\")\n",
    "doit(30,\"pic/02.h5\", \"pic/03.h5\")\n",
    "doit(30,\"pic/03.h5\", \"pic/04.h5\")\n",
    "doit(30,\"pic/04.h5\", \"pic/05.h5\")\n",
    "doit(30,\"pic/05.h5\", \"pic/00.h5\")\n",
    "print('всё')"
   ]
  }
 ],
 "metadata": {
  "kernelspec": {
   "display_name": "Python 3",
   "language": "python",
   "name": "python3"
  },
  "language_info": {
   "codemirror_mode": {
    "name": "ipython",
    "version": 3
   },
   "file_extension": ".py",
   "mimetype": "text/x-python",
   "name": "python",
   "nbconvert_exporter": "python",
   "pygments_lexer": "ipython3",
   "version": "3.8.8"
  }
 },
 "nbformat": 4,
 "nbformat_minor": 5
}
